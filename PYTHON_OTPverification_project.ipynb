{
  "nbformat": 4,
  "nbformat_minor": 0,
  "metadata": {
    "colab": {
      "provenance": []
    },
    "kernelspec": {
      "name": "python3",
      "display_name": "Python 3"
    },
    "language_info": {
      "name": "python"
    }
  },
  "cells": [
    {
      "cell_type": "markdown",
      "source": [
        "# **Python - Capstone Project**\n",
        "## Project Title: OTP Verification System\n",
        "\n",
        "### Done by: Sunitha G, DS48, ID: S10383"
      ],
      "metadata": {
        "id": "jrdp2orZftQm"
      }
    },
    {
      "cell_type": "markdown",
      "source": [
        " # Introduction\n",
        "####🔹 This project is designed to implement a secure OTP (One-Time Password) verification system using Python.\n",
        "####🔹The system asks the user to enter an email address.\n",
        "####🔹 It generates a 6-digit OTP, sends it via email, and allows the user to enter and verify the OTP.\n",
        "####🔹 The system ensures security by limiting the number of incorrect attempts."
      ],
      "metadata": {
        "id": "EZ_Q8a9BEWRB"
      }
    },
    {
      "cell_type": "code",
      "source": [
        "# Importing Libraries\n",
        "import random                                           # Used to generate 6 digit OTP\n",
        "import smtplib                                          # Used to send Gmail with SMTP server\n",
        "from email.message import EmailMessage                  # For constructing and managing email messages\n",
        "\n",
        "\n",
        "# Function to generate a 6-digit OTP randomly\n",
        "# #  Summary of this function # #\n",
        "\n",
        "# Returns OTP as a string, if an OTP starts with 0, keeping it as an integer would remove the leading 0.\n",
        "# OTPs are often sent via SMS or email, where strings are required.\n",
        "# Security Considerations → Strings prevent accidental numerical operations on OTPs.\n",
        "\n",
        "\n",
        "def OTP_creation():\n",
        "  OTP_6digit = str(random.randint(100000, 999999))\n",
        "  return OTP_6digit\n",
        "\n",
        "\n",
        "# Function to send the generated OTP via email using Gmail's SMTP server\n",
        "# #  Summary of this function # #\n",
        "\n",
        "# Uses Gmail using smtplib.SMTP_SSL securely\n",
        "# Requires App Password for authentication for security\n",
        "# Asks the user for their email before sending OTP\n",
        "# Sends the OTP to the recipient’s email\n",
        "# Displays \"OTP sent to your email!\"\n",
        "\n",
        "def send_otp():\n",
        "\n",
        "# Email credentials\n",
        "  SENDER_ADDRESS = \"shekarkousic@gmail.com\"\n",
        "  SENDER_PASSWORD = \"fesz cqig dhpm glaw\"  # Use an App Password for security\n",
        "\n",
        "# Create email message\n",
        "  msg = EmailMessage()\n",
        "  msg['Subject'] =  \"OTP received\"\n",
        "  msg['From'] = SENDER_ADDRESS\n",
        "  msg['To'] = input(\"Enter your Email ID: \")\n",
        "  msg.set_content(f\"Your OTP is: {OTP}\")\n",
        "\n",
        "# Send email using SMTP\n",
        "  with smtplib.SMTP_SSL(\"smtp.gmail.com\", 465) as smtp:\n",
        "    smtp.login(SENDER_ADDRESS, SENDER_PASSWORD)\n",
        "    smtp.send_message(msg)\n",
        "    print(\"OTP sent to your email!\")\n",
        "\n",
        "\n",
        "# get_user_otp() & verify_otp() functions work together to prompt the user for an OTP and verify it against the correct OTP with retry attempts.\n",
        "# Calling get_user_otp() inside the loop allows multiple attempts\n",
        "# #  Summary of this function # #\n",
        "\n",
        "# functionality of verify_otp() Step-by-Step\n",
        "# 1️⃣ Initialize attempts = 0.\n",
        "# 2️⃣ Start a while loop that runs until max_attempts is reached.\n",
        "# 3️⃣ Call get_user_otp() to prompt the user for OTP.\n",
        "# 4️⃣ Check if the OTP matches the correct_otp:\n",
        "### If correct, print \"OTP verified successfully!\" and exit.\n",
        "### If incorrect, increase attempts and print how many are left.\n",
        "# 5️⃣ If max_attempts are used, print \"All your attempts are incorrect. Try again later.\"\n",
        "\n",
        "\n",
        "#  Function to prompt the user to enter the OTP received in their email\n",
        "def get_user_otp():\n",
        "    return input(\"Enter the OTP sent to your email: \")\n",
        "\n",
        "# Function to verify if the entered OTP matches the generated OTP with retry logic\n",
        "def verify_otp(correct_otp, max_attempts):\n",
        "    attempts = 0\n",
        "    while attempts < max_attempts:\n",
        "        user_otp = get_user_otp()\n",
        "        if user_otp == correct_otp:\n",
        "            print(\"OTP verified successfully! Access granted.\")\n",
        "            return\n",
        "        else:\n",
        "            attempts += 1\n",
        "            print(f\"Incorrect OTP. {max_attempts - attempts} attempts left.\\n\")\n",
        "\n",
        "    print(\"All your attemps incorrect. Try again later.\")\n",
        "    return\n",
        "\n",
        "# Calling functions\n",
        "OTP= OTP_creation()\n",
        "send_otp()\n",
        "# Calling verify function by limiting to 3 attempts.\n",
        "verify_otp(OTP, 3)\n",
        "\n",
        "\n"
      ],
      "metadata": {
        "colab": {
          "base_uri": "https://localhost:8080/"
        },
        "outputId": "1367f448-84cf-4a28-f299-a68041b2c73f",
        "id": "4XLH9bJIf99U"
      },
      "execution_count": 5,
      "outputs": [
        {
          "output_type": "stream",
          "name": "stdout",
          "text": [
            "Enter your Email ID: ssuneedha@gmail.com\n",
            "OTP sent to your email!\n",
            "Enter the OTP sent to your email: 497289\n",
            "OTP verified successfully! Access granted.\n"
          ]
        }
      ]
    }
  ]
}